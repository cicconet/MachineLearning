{
 "cells": [
  {
   "cell_type": "code",
   "execution_count": null,
   "metadata": {},
   "outputs": [],
   "source": [
    "# https://pytorch.org/tutorials/beginner/blitz/cifar10_tutorial.html#sphx-glr-beginner-blitz-cifar10-tutorial-py\n",
    "# https://pytorch.org/tutorials/beginner/data_loading_tutorial.html\n",
    "\n",
    "import torch\n",
    "from torch.utils.data import Dataset, DataLoader\n",
    "from skimage import io\n",
    "import numpy as np\n",
    "import matplotlib.pyplot as plt\n",
    "import torch.optim as optim"
   ]
  },
  {
   "cell_type": "code",
   "execution_count": null,
   "metadata": {},
   "outputs": [],
   "source": [
    "class CustomDataset(Dataset):\n",
    "    def __init__(self, name, phase):\n",
    "        self.n_classes = 10\n",
    "        if name == 'Cells': self.n_classes = 4\n",
    "        if phase == 'train':\n",
    "            self.n_imgs_per_class = 1000\n",
    "            if name == 'Cells': self.n_imgs_per_class = 500\n",
    "            self.root_path = '/home/cicconet/Development/MachineLearning/%s/Train' % name\n",
    "        elif phase == 'test':\n",
    "            self.n_imgs_per_class = 100\n",
    "            if name == 'Cells': self.n_imgs_per_class = 200\n",
    "            self.root_path = '/home/cicconet/Development/MachineLearning/%s/Test' % name\n",
    "        \n",
    "    def __len__(self):\n",
    "        return self.n_classes*self.n_imgs_per_class\n",
    "\n",
    "    def __getitem__(self, idx):\n",
    "        folder_idx = int(idx/self.n_imgs_per_class)\n",
    "        img_idx = idx-folder_idx*self.n_imgs_per_class\n",
    "        img_path = self.root_path+'/{}/Image{:05d}.png'.format(folder_idx, img_idx)\n",
    "        \n",
    "        image = io.imread(img_path)\n",
    "        image = torch.unsqueeze(torch.from_numpy(image), 0).float()/255\n",
    "        sample = {'image': image, 'label': folder_idx}\n",
    "\n",
    "        return sample"
   ]
  },
  {
   "cell_type": "code",
   "execution_count": null,
   "metadata": {},
   "outputs": [],
   "source": [
    "ds_name = 'Cells'\n",
    "\n",
    "train_dataset = CustomDataset(ds_name, 'train')\n",
    "test_dataset = CustomDataset(ds_name, 'test')\n",
    "rand_i = np.random.randint(len(train_dataset), size=10)\n",
    "for i in rand_i:\n",
    "    item = train_dataset[i]\n",
    "    img, lbl = item['image'], item['label']\n",
    "    print(i, img.shape, img.dtype, img.max(), lbl)"
   ]
  },
  {
   "cell_type": "code",
   "execution_count": null,
   "metadata": {},
   "outputs": [],
   "source": [
    "train_loader = DataLoader(train_dataset, batch_size=4,  shuffle=True, num_workers=4)\n",
    "test_loader = DataLoader(test_dataset, batch_size=4,  shuffle=True, num_workers=4)"
   ]
  },
  {
   "cell_type": "code",
   "execution_count": null,
   "metadata": {},
   "outputs": [],
   "source": [
    "fig = plt.figure()\n",
    "for idx, batch in enumerate(train_loader):\n",
    "    imgs, lbls = batch['image'], batch['label']\n",
    "    print(idx, imgs[0].numpy().squeeze().max(), lbls[0])\n",
    "    ax = plt.subplot(1,5,idx+1)\n",
    "    ax.imshow(imgs[0].numpy().squeeze())\n",
    "    ax.axis('off')\n",
    "    plt.tight_layout()\n",
    "    plt.title(batch['label'][0].item())\n",
    "    if idx == 4:\n",
    "        break"
   ]
  },
  {
   "cell_type": "code",
   "execution_count": null,
   "metadata": {},
   "outputs": [],
   "source": [
    "import torch.nn as nn\n",
    "import torch.nn.functional as F\n",
    "\n",
    "class Net(nn.Module):\n",
    "    def __init__(self):\n",
    "        super(Net, self).__init__()\n",
    "        self.conv1 = nn.Conv2d(1, 6, 5) # n chan in, n chan out, kernel size\n",
    "        self.pool = nn.MaxPool2d(2, 2)\n",
    "        self.conv2 = nn.Conv2d(6, 16, 5)\n",
    "        self.fc1 = nn.Linear(16 * 4 * 4, 120)\n",
    "        self.fc2 = nn.Linear(120, 84)\n",
    "        self.fc3 = nn.Linear(84, 10)\n",
    "\n",
    "    def forward(self, x):\n",
    "        x = self.pool(F.relu(self.conv1(x)))\n",
    "        x = self.pool(F.relu(self.conv2(x)))\n",
    "        x = x.view(-1, 16 * 4 * 4)\n",
    "        x = F.relu(self.fc1(x))\n",
    "        x = F.relu(self.fc2(x))\n",
    "        x = self.fc3(x)\n",
    "        return x\n",
    "    \n",
    "data_iter = iter(train_loader)\n",
    "batch = data_iter.next()\n",
    "\n",
    "imgs, lbls = batch['image'], batch['label']\n",
    "print(imgs.dtype, imgs.shape, lbls)\n",
    "\n",
    "net = Net()\n",
    "print(net(imgs).shape)"
   ]
  },
  {
   "cell_type": "code",
   "execution_count": null,
   "metadata": {},
   "outputs": [],
   "source": [
    "criterion = nn.CrossEntropyLoss()\n",
    "optimizer = optim.SGD(net.parameters(), lr=0.001, momentum=0.9)"
   ]
  },
  {
   "cell_type": "code",
   "execution_count": null,
   "metadata": {},
   "outputs": [],
   "source": [
    "running_loss = 0.0\n",
    "for epoch in range(20):\n",
    "    for i, batch in enumerate(train_loader):\n",
    "        imgs, lbls = batch['image'], batch['label']\n",
    "\n",
    "        optimizer.zero_grad()\n",
    "\n",
    "        pred = net(imgs)\n",
    "        loss = criterion(pred, lbls)\n",
    "        loss.backward()\n",
    "        optimizer.step()\n",
    "\n",
    "        running_loss = 0.5*running_loss+0.5*loss.item()\n",
    "        if i % 500 == 499:\n",
    "            print('epoch', epoch+1, 'batch', i+1, 'loss', running_loss)"
   ]
  },
  {
   "cell_type": "code",
   "execution_count": null,
   "metadata": {},
   "outputs": [],
   "source": [
    "correct = 0\n",
    "total = 0\n",
    "with torch.no_grad():\n",
    "    for batch in test_loader:\n",
    "        imgs, lbls = batch['image'], batch['label']\n",
    "        pred = net(imgs)\n",
    "        mx, imx = torch.max(pred,1)\n",
    "        total += len(lbls)\n",
    "        correct += (imx == lbls).sum().item()\n",
    "\n",
    "print('test accuracy', correct / total)"
   ]
  }
 ],
 "metadata": {
  "kernelspec": {
   "display_name": "pytorch15",
   "language": "python",
   "name": "pytorch15"
  },
  "language_info": {
   "codemirror_mode": {
    "name": "ipython",
    "version": 3
   },
   "file_extension": ".py",
   "mimetype": "text/x-python",
   "name": "python",
   "nbconvert_exporter": "python",
   "pygments_lexer": "ipython3",
   "version": "3.8.3"
  }
 },
 "nbformat": 4,
 "nbformat_minor": 4
}
